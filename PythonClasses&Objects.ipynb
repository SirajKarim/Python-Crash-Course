{
 "cells": [
  {
   "cell_type": "markdown",
   "metadata": {},
   "source": [
    "# Here  i create a class whose name is Dog and then inside create a method starts with def having a different parameter but in this we have a parameter name self this paramerter is provide by python automatically at run time"
   ]
  },
  {
   "cell_type": "code",
   "execution_count": 41,
   "metadata": {},
   "outputs": [],
   "source": [
    "class Dog:\n",
    "    \n",
    "#     def __init__ (self):\n",
    "#         pass\n",
    "    \n",
    "#     here provide multiple parameters\n",
    "\n",
    "    def __init__ (self,name,age):\n",
    "        self.name=name\n",
    "        self.age=age\n",
    "        \n",
    "    def dogInfo(self):\n",
    "        print(f\"{self.name} is {self.age} years old\")\n",
    "        \n",
    "    def bark(self):\n",
    "        print(\"bark bark\")\n",
    "        \n",
    "    def setBuddy(self,buddy):\n",
    "        self.buddy=buddy\n",
    "        buddy.buddy=self"
   ]
  },
  {
   "cell_type": "code",
   "execution_count": 42,
   "metadata": {},
   "outputs": [],
   "source": [
    "# ozzy = Dog()"
   ]
  },
  {
   "cell_type": "code",
   "execution_count": 43,
   "metadata": {},
   "outputs": [],
   "source": [
    "# ozzy"
   ]
  },
  {
   "cell_type": "code",
   "execution_count": 44,
   "metadata": {},
   "outputs": [],
   "source": [
    "# oggy=Dog('Tom',2)"
   ]
  },
  {
   "cell_type": "code",
   "execution_count": 45,
   "metadata": {},
   "outputs": [],
   "source": [
    "# print(oggy.name)"
   ]
  },
  {
   "cell_type": "code",
   "execution_count": 46,
   "metadata": {},
   "outputs": [],
   "source": [
    "# print(oggy.age)"
   ]
  },
  {
   "cell_type": "code",
   "execution_count": 47,
   "metadata": {},
   "outputs": [],
   "source": [
    "# print(f\"The name of dog is {oggy.name} and he is {oggy.age} years old \")"
   ]
  },
  {
   "cell_type": "code",
   "execution_count": 48,
   "metadata": {},
   "outputs": [],
   "source": [
    "ozzy = Dog(\"Ozzy\", 2)\n",
    "skippy = Dog(\"Skippy\", 12)\n",
    "filou = Dog(\"Filou\", 8)"
   ]
  },
  {
   "cell_type": "code",
   "execution_count": 49,
   "metadata": {},
   "outputs": [
    {
     "name": "stdout",
     "output_type": "stream",
     "text": [
      "Ozzy\n",
      "2\n",
      "Ozzy is 2 years old\n",
      "bark bark\n",
      "Skippy\n",
      "12\n",
      "Skippy is 12 years old\n",
      "bark bark\n",
      "Filou\n",
      "8\n",
      "Filou is 8 years old\n",
      "bark bark\n"
     ]
    }
   ],
   "source": [
    "print(ozzy.name)\n",
    "print(ozzy.age)\n",
    "ozzy.dogInfo()\n",
    "ozzy.bark()\n",
    "print(skippy.name)\n",
    "print(skippy.age)\n",
    "skippy.dogInfo()\n",
    "skippy.bark()\n",
    "print(filou.name)\n",
    "print(filou.age)\n",
    "filou.dogInfo()\n",
    "filou.bark()"
   ]
  },
  {
   "cell_type": "code",
   "execution_count": 50,
   "metadata": {},
   "outputs": [],
   "source": [
    "ozzy.setBuddy(filou)"
   ]
  },
  {
   "cell_type": "code",
   "execution_count": 52,
   "metadata": {},
   "outputs": [
    {
     "name": "stdout",
     "output_type": "stream",
     "text": [
      "Filou\n",
      "8\n"
     ]
    }
   ],
   "source": [
    "print(ozzy.buddy.name)\n",
    "print(ozzy.buddy.age)"
   ]
  },
  {
   "cell_type": "code",
   "execution_count": 55,
   "metadata": {},
   "outputs": [],
   "source": [
    "ozzy.setBuddy(skippy)"
   ]
  },
  {
   "cell_type": "code",
   "execution_count": 56,
   "metadata": {},
   "outputs": [
    {
     "name": "stdout",
     "output_type": "stream",
     "text": [
      "Ozzy\n",
      "2\n"
     ]
    }
   ],
   "source": [
    "print(skippy.buddy.name)\n",
    "print(skippy.buddy.age)"
   ]
  },
  {
   "cell_type": "markdown",
   "metadata": {},
   "source": [
    "# Exception Handling"
   ]
  },
  {
   "cell_type": "code",
   "execution_count": 2,
   "metadata": {},
   "outputs": [],
   "source": [
    "# def spam(divideByZero):\n",
    "#     try:\n",
    "#         return 42/divideByZero\n",
    "#     except NotDivideByZero:\n",
    "#         print('Erro: Invalid Argument')"
   ]
  },
  {
   "cell_type": "code",
   "execution_count": 4,
   "metadata": {},
   "outputs": [
    {
     "data": {
      "text/plain": [
       "1.2352941176470589"
      ]
     },
     "execution_count": 4,
     "metadata": {},
     "output_type": "execute_result"
    }
   ],
   "source": [
    "# spam(34)"
   ]
  },
  {
   "cell_type": "code",
   "execution_count": null,
   "metadata": {},
   "outputs": [],
   "source": []
  }
 ],
 "metadata": {
  "kernelspec": {
   "display_name": "Python 3",
   "language": "python",
   "name": "python3"
  },
  "language_info": {
   "codemirror_mode": {
    "name": "ipython",
    "version": 3
   },
   "file_extension": ".py",
   "mimetype": "text/x-python",
   "name": "python",
   "nbconvert_exporter": "python",
   "pygments_lexer": "ipython3",
   "version": "3.7.3"
  }
 },
 "nbformat": 4,
 "nbformat_minor": 2
}
